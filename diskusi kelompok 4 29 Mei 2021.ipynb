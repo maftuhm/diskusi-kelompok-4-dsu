{
 "cells": [
  {
   "cell_type": "code",
   "execution_count": 49,
   "metadata": {},
   "outputs": [],
   "source": [
    "import psycopg2\n",
    "import pandas as pd\n",
    "\n",
    "def run(query):\n",
    "    conn = psycopg2.connect(database = 'diskusi_kel4', user = \"postgres\", password = 'maftuh2003', host = \"localhost\", port = \"5432\")\n",
    "    cur = conn.cursor()\n",
    "#     cur.execute(query)\n",
    "#     return cur.fetchall()\n",
    "    return pd.read_sql(query, conn)"
   ]
  },
  {
   "cell_type": "markdown",
   "metadata": {},
   "source": [
    "# No 1"
   ]
  },
  {
   "cell_type": "code",
   "execution_count": 52,
   "metadata": {},
   "outputs": [
    {
     "data": {
      "text/html": [
       "<div>\n",
       "<style scoped>\n",
       "    .dataframe tbody tr th:only-of-type {\n",
       "        vertical-align: middle;\n",
       "    }\n",
       "\n",
       "    .dataframe tbody tr th {\n",
       "        vertical-align: top;\n",
       "    }\n",
       "\n",
       "    .dataframe thead th {\n",
       "        text-align: right;\n",
       "    }\n",
       "</style>\n",
       "<table border=\"1\" class=\"dataframe\">\n",
       "  <thead>\n",
       "    <tr style=\"text-align: right;\">\n",
       "      <th></th>\n",
       "      <th>officecode</th>\n",
       "      <th>city</th>\n",
       "      <th>phone</th>\n",
       "      <th>addressline1</th>\n",
       "      <th>addressline2</th>\n",
       "      <th>state</th>\n",
       "      <th>country</th>\n",
       "      <th>postalcode</th>\n",
       "      <th>territory</th>\n",
       "    </tr>\n",
       "  </thead>\n",
       "  <tbody>\n",
       "    <tr>\n",
       "      <th>0</th>\n",
       "      <td>6</td>\n",
       "      <td>Sydney</td>\n",
       "      <td>+61 2 9264 2451</td>\n",
       "      <td>5-11 Wentworth Avenue</td>\n",
       "      <td>Floor #2</td>\n",
       "      <td></td>\n",
       "      <td>Australia</td>\n",
       "      <td>NSW 2010</td>\n",
       "      <td>APAC</td>\n",
       "    </tr>\n",
       "    <tr>\n",
       "      <th>1</th>\n",
       "      <td>4</td>\n",
       "      <td>Paris</td>\n",
       "      <td>+33 14 723 4404</td>\n",
       "      <td>43 Rue Jouffroy D'abbans</td>\n",
       "      <td></td>\n",
       "      <td></td>\n",
       "      <td>France</td>\n",
       "      <td>75017</td>\n",
       "      <td>EMEA</td>\n",
       "    </tr>\n",
       "    <tr>\n",
       "      <th>2</th>\n",
       "      <td>5</td>\n",
       "      <td>Tokyo</td>\n",
       "      <td>+81 33 224 5000</td>\n",
       "      <td>4-1 Kioicho</td>\n",
       "      <td></td>\n",
       "      <td>Chiyoda-Ku</td>\n",
       "      <td>Japan</td>\n",
       "      <td>102-8578</td>\n",
       "      <td>Japan</td>\n",
       "    </tr>\n",
       "    <tr>\n",
       "      <th>3</th>\n",
       "      <td>7</td>\n",
       "      <td>London</td>\n",
       "      <td>+44 20 7877 2041</td>\n",
       "      <td>25 Old Broad Street</td>\n",
       "      <td>Level 7</td>\n",
       "      <td></td>\n",
       "      <td>UK</td>\n",
       "      <td>EC2N 1HN</td>\n",
       "      <td>EMEA</td>\n",
       "    </tr>\n",
       "    <tr>\n",
       "      <th>4</th>\n",
       "      <td>1</td>\n",
       "      <td>San Francisco</td>\n",
       "      <td>+1 650 219 4782</td>\n",
       "      <td>100 Market Street</td>\n",
       "      <td>Suite 300</td>\n",
       "      <td>CA</td>\n",
       "      <td>USA</td>\n",
       "      <td>94080</td>\n",
       "      <td>NA</td>\n",
       "    </tr>\n",
       "    <tr>\n",
       "      <th>5</th>\n",
       "      <td>2</td>\n",
       "      <td>Boston</td>\n",
       "      <td>+1 215 837 0825</td>\n",
       "      <td>1550 Court Place</td>\n",
       "      <td>Suite 102</td>\n",
       "      <td>MA</td>\n",
       "      <td>USA</td>\n",
       "      <td>02107</td>\n",
       "      <td>NA</td>\n",
       "    </tr>\n",
       "    <tr>\n",
       "      <th>6</th>\n",
       "      <td>3</td>\n",
       "      <td>NYC</td>\n",
       "      <td>+1 212 555 3000</td>\n",
       "      <td>523 East 53rd Street</td>\n",
       "      <td>apt. 5A</td>\n",
       "      <td>NY</td>\n",
       "      <td>USA</td>\n",
       "      <td>10022</td>\n",
       "      <td>NA</td>\n",
       "    </tr>\n",
       "  </tbody>\n",
       "</table>\n",
       "</div>"
      ],
      "text/plain": [
       "   officecode           city             phone              addressline1  \\\n",
       "0           6         Sydney   +61 2 9264 2451     5-11 Wentworth Avenue   \n",
       "1           4          Paris   +33 14 723 4404  43 Rue Jouffroy D'abbans   \n",
       "2           5          Tokyo   +81 33 224 5000               4-1 Kioicho   \n",
       "3           7         London  +44 20 7877 2041       25 Old Broad Street   \n",
       "4           1  San Francisco   +1 650 219 4782         100 Market Street   \n",
       "5           2         Boston   +1 215 837 0825          1550 Court Place   \n",
       "6           3            NYC   +1 212 555 3000      523 East 53rd Street   \n",
       "\n",
       "  addressline2       state    country postalcode territory  \n",
       "0     Floor #2              Australia   NSW 2010      APAC  \n",
       "1                              France      75017      EMEA  \n",
       "2               Chiyoda-Ku      Japan   102-8578     Japan  \n",
       "3      Level 7                     UK   EC2N 1HN      EMEA  \n",
       "4    Suite 300          CA        USA      94080        NA  \n",
       "5    Suite 102          MA        USA      02107        NA  \n",
       "6      apt. 5A          NY        USA      10022        NA  "
      ]
     },
     "execution_count": 52,
     "metadata": {},
     "output_type": "execute_result"
    }
   ],
   "source": [
    "query = \"SELECT * FROM _offices ORDER BY country, state, city;\"\n",
    "run(query)"
   ]
  },
  {
   "cell_type": "markdown",
   "metadata": {},
   "source": [
    "# NO 2"
   ]
  },
  {
   "cell_type": "code",
   "execution_count": 55,
   "metadata": {},
   "outputs": [
    {
     "data": {
      "text/html": [
       "<div>\n",
       "<style scoped>\n",
       "    .dataframe tbody tr th:only-of-type {\n",
       "        vertical-align: middle;\n",
       "    }\n",
       "\n",
       "    .dataframe tbody tr th {\n",
       "        vertical-align: top;\n",
       "    }\n",
       "\n",
       "    .dataframe thead th {\n",
       "        text-align: right;\n",
       "    }\n",
       "</style>\n",
       "<table border=\"1\" class=\"dataframe\">\n",
       "  <thead>\n",
       "    <tr style=\"text-align: right;\">\n",
       "      <th></th>\n",
       "      <th>count</th>\n",
       "    </tr>\n",
       "  </thead>\n",
       "  <tbody>\n",
       "    <tr>\n",
       "      <th>0</th>\n",
       "      <td>23</td>\n",
       "    </tr>\n",
       "  </tbody>\n",
       "</table>\n",
       "</div>"
      ],
      "text/plain": [
       "   count\n",
       "0     23"
      ]
     },
     "execution_count": 55,
     "metadata": {},
     "output_type": "execute_result"
    }
   ],
   "source": [
    "query = \"SELECT COUNT(employeenumber) FROM _employees\"\n",
    "run(query)"
   ]
  },
  {
   "cell_type": "code",
   "execution_count": null,
   "metadata": {},
   "outputs": [],
   "source": []
  }
 ],
 "metadata": {
  "kernelspec": {
   "display_name": "Python 3",
   "language": "python",
   "name": "python3"
  },
  "language_info": {
   "codemirror_mode": {
    "name": "ipython",
    "version": 3
   },
   "file_extension": ".py",
   "mimetype": "text/x-python",
   "name": "python",
   "nbconvert_exporter": "python",
   "pygments_lexer": "ipython3",
   "version": "3.8.3"
  }
 },
 "nbformat": 4,
 "nbformat_minor": 4
}
